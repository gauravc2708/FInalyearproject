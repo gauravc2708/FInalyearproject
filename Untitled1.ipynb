{
 "cells": [
  {
   "cell_type": "code",
   "execution_count": 165,
   "metadata": {},
   "outputs": [],
   "source": [
    "# Load libraries\n",
    "import pandas \n",
    "from pandas.tools.plotting import scatter_matrix\n",
    "import matplotlib.pyplot as plt\n",
    "from sklearn import model_selection\n",
    "from sklearn.metrics import classification_report\n",
    "from sklearn.metrics import confusion_matrix\n",
    "from sklearn.metrics import accuracy_score\n",
    "from sklearn.linear_model import LogisticRegression\n",
    "from sklearn.tree import DecisionTreeClassifier\n",
    "from sklearn.neighbors import KNeighborsClassifier\n",
    "from sklearn.discriminant_analysis import LinearDiscriminantAnalysis\n",
    "from sklearn.naive_bayes import GaussianNB\n",
    "from sklearn.svm import SVC"
   ]
  },
  {
   "cell_type": "code",
   "execution_count": 166,
   "metadata": {
    "scrolled": false
   },
   "outputs": [
    {
     "data": {
      "text/html": [
       "<div>\n",
       "<style scoped>\n",
       "    .dataframe tbody tr th:only-of-type {\n",
       "        vertical-align: middle;\n",
       "    }\n",
       "\n",
       "    .dataframe tbody tr th {\n",
       "        vertical-align: top;\n",
       "    }\n",
       "\n",
       "    .dataframe thead th {\n",
       "        text-align: right;\n",
       "    }\n",
       "</style>\n",
       "<table border=\"1\" class=\"dataframe\">\n",
       "  <thead>\n",
       "    <tr style=\"text-align: right;\">\n",
       "      <th></th>\n",
       "      <th>index</th>\n",
       "      <th>Expected Salary</th>\n",
       "      <th>CGPA</th>\n",
       "      <th>10th Percentage</th>\n",
       "      <th>12th Percentage</th>\n",
       "      <th>Branch</th>\n",
       "      <th>Certifications</th>\n",
       "      <th>Level of Participation</th>\n",
       "      <th>Communication Proficiency</th>\n",
       "      <th>Programming Languages</th>\n",
       "      <th>Extraversion</th>\n",
       "      <th>Agreeableness</th>\n",
       "      <th>Openness</th>\n",
       "      <th>Conscientiousness</th>\n",
       "      <th>Neuroticism</th>\n",
       "      <th>Attendance %</th>\n",
       "      <th>Employeed</th>\n",
       "    </tr>\n",
       "  </thead>\n",
       "  <tbody>\n",
       "    <tr>\n",
       "      <th>0</th>\n",
       "      <td>1</td>\n",
       "      <td>$31,554.87</td>\n",
       "      <td>6.60</td>\n",
       "      <td>54.45</td>\n",
       "      <td>65.31</td>\n",
       "      <td>IT</td>\n",
       "      <td>NaN</td>\n",
       "      <td>NaN</td>\n",
       "      <td>3</td>\n",
       "      <td>C++</td>\n",
       "      <td>3</td>\n",
       "      <td>3</td>\n",
       "      <td>4</td>\n",
       "      <td>1</td>\n",
       "      <td>2</td>\n",
       "      <td>74</td>\n",
       "      <td>0</td>\n",
       "    </tr>\n",
       "    <tr>\n",
       "      <th>1</th>\n",
       "      <td>2</td>\n",
       "      <td>$34,036.10</td>\n",
       "      <td>5.29</td>\n",
       "      <td>79.49</td>\n",
       "      <td>47.68</td>\n",
       "      <td>Mechanical</td>\n",
       "      <td>NaN</td>\n",
       "      <td>NaN</td>\n",
       "      <td>10</td>\n",
       "      <td>Python</td>\n",
       "      <td>3</td>\n",
       "      <td>5</td>\n",
       "      <td>2</td>\n",
       "      <td>2</td>\n",
       "      <td>1</td>\n",
       "      <td>83</td>\n",
       "      <td>0</td>\n",
       "    </tr>\n",
       "    <tr>\n",
       "      <th>2</th>\n",
       "      <td>3</td>\n",
       "      <td>$33,612.89</td>\n",
       "      <td>7.72</td>\n",
       "      <td>97.39</td>\n",
       "      <td>90.26</td>\n",
       "      <td>Telecomm</td>\n",
       "      <td>NaN</td>\n",
       "      <td>NaN</td>\n",
       "      <td>5</td>\n",
       "      <td>Python</td>\n",
       "      <td>3</td>\n",
       "      <td>3</td>\n",
       "      <td>4</td>\n",
       "      <td>1</td>\n",
       "      <td>3</td>\n",
       "      <td>71</td>\n",
       "      <td>0</td>\n",
       "    </tr>\n",
       "    <tr>\n",
       "      <th>3</th>\n",
       "      <td>4</td>\n",
       "      <td>$21,501.30</td>\n",
       "      <td>7.41</td>\n",
       "      <td>78.13</td>\n",
       "      <td>81.61</td>\n",
       "      <td>Telecomm</td>\n",
       "      <td>1.0</td>\n",
       "      <td>NaN</td>\n",
       "      <td>10</td>\n",
       "      <td>C++</td>\n",
       "      <td>2</td>\n",
       "      <td>5</td>\n",
       "      <td>2</td>\n",
       "      <td>4</td>\n",
       "      <td>2</td>\n",
       "      <td>93</td>\n",
       "      <td>1</td>\n",
       "    </tr>\n",
       "    <tr>\n",
       "      <th>4</th>\n",
       "      <td>5</td>\n",
       "      <td>$30,828.03</td>\n",
       "      <td>8.61</td>\n",
       "      <td>54.91</td>\n",
       "      <td>76.71</td>\n",
       "      <td>Civil</td>\n",
       "      <td>NaN</td>\n",
       "      <td>NaN</td>\n",
       "      <td>8</td>\n",
       "      <td>Java</td>\n",
       "      <td>4</td>\n",
       "      <td>5</td>\n",
       "      <td>5</td>\n",
       "      <td>4</td>\n",
       "      <td>3</td>\n",
       "      <td>60</td>\n",
       "      <td>1</td>\n",
       "    </tr>\n",
       "  </tbody>\n",
       "</table>\n",
       "</div>"
      ],
      "text/plain": [
       "   index Expected Salary  CGPA  10th Percentage  12th Percentage      Branch  \\\n",
       "0      1     $31,554.87   6.60            54.45            65.31          IT   \n",
       "1      2     $34,036.10   5.29            79.49            47.68  Mechanical   \n",
       "2      3     $33,612.89   7.72            97.39            90.26    Telecomm   \n",
       "3      4     $21,501.30   7.41            78.13            81.61    Telecomm   \n",
       "4      5     $30,828.03   8.61            54.91            76.71       Civil   \n",
       "\n",
       "   Certifications Level of Participation  Communication Proficiency  \\\n",
       "0             NaN                    NaN                          3   \n",
       "1             NaN                    NaN                         10   \n",
       "2             NaN                    NaN                          5   \n",
       "3             1.0                    NaN                         10   \n",
       "4             NaN                    NaN                          8   \n",
       "\n",
       "  Programming Languages  Extraversion  Agreeableness  Openness  \\\n",
       "0                   C++             3              3         4   \n",
       "1                Python             3              5         2   \n",
       "2                Python             3              3         4   \n",
       "3                   C++             2              5         2   \n",
       "4                  Java             4              5         5   \n",
       "\n",
       "   Conscientiousness  Neuroticism  Attendance %  Employeed  \n",
       "0                  1            2            74          0  \n",
       "1                  2            1            83          0  \n",
       "2                  1            3            71          0  \n",
       "3                  4            2            93          1  \n",
       "4                  4            3            60          1  "
      ]
     },
     "execution_count": 166,
     "metadata": {},
     "output_type": "execute_result"
    }
   ],
   "source": [
    "dataset = pandas.read_csv('df.csv')\n",
    "dataset.head()"
   ]
  },
  {
   "cell_type": "code",
   "execution_count": null,
   "metadata": {},
   "outputs": [],
   "source": []
  },
  {
   "cell_type": "code",
   "execution_count": null,
   "metadata": {
    "scrolled": true
   },
   "outputs": [],
   "source": []
  },
  {
   "cell_type": "markdown",
   "metadata": {},
   "source": [
    "# Clean The Data"
   ]
  },
  {
   "cell_type": "code",
   "execution_count": 168,
   "metadata": {},
   "outputs": [],
   "source": [
    "# Clean Expected Salary\n",
    "dataset['Expected Salary'] = pd.Series(dataset['Expected Salary']).str.replace('$', '')\n",
    "dataset['Expected Salary'] = pd.Series(dataset['Expected Salary']).str.replace(',', '')\n"
   ]
  },
  {
   "cell_type": "code",
   "execution_count": 169,
   "metadata": {
    "scrolled": true
   },
   "outputs": [],
   "source": [
    "import pandas as pd\n"
   ]
  },
  {
   "cell_type": "code",
   "execution_count": 170,
   "metadata": {},
   "outputs": [],
   "source": [
    "# Clean Branch\n",
    "\n",
    "dataset['Branch']= pd.Series(dataset['Branch']).str.replace('IT', '0')\n",
    "dataset['Branch']= pd.Series(dataset['Branch']).str.replace('Mechanical', '1')\n",
    "dataset['Branch']= pd.Series(dataset['Branch']).str.replace('Telecomm', '2')\n",
    "dataset['Branch']= pd.Series(dataset['Branch']).str.replace('Civil', '3')\n",
    "dataset['Branch']= pd.Series(dataset['Branch']).str.replace('Computer', '4')\n",
    "dataset['Branch']= pd.Series(dataset['Branch']).str.replace('Biomedical', '5')\n",
    "dataset['Branch']= pd.Series(dataset['Branch']).str.replace('Electronics', '6')\n",
    "\n",
    "dataset['Branch'] = pd.Series(dataset['Branch'], dtype='float64')\n",
    "dataset['Expected Salary'] = pd.Series(dataset['Expected Salary'], dtype='float64')\n"
   ]
  },
  {
   "cell_type": "code",
   "execution_count": 171,
   "metadata": {
    "scrolled": true
   },
   "outputs": [
    {
     "name": "stdout",
     "output_type": "stream",
     "text": [
      "<class 'pandas.core.frame.DataFrame'>\n",
      "RangeIndex: 10000 entries, 0 to 9999\n",
      "Data columns (total 17 columns):\n",
      "index                        10000 non-null int64\n",
      "Expected Salary              10000 non-null float64\n",
      "CGPA                         10000 non-null float64\n",
      "10th Percentage              10000 non-null float64\n",
      "12th Percentage              10000 non-null float64\n",
      "Branch                       10000 non-null float64\n",
      "Certifications               1970 non-null float64\n",
      "Level of Participation       975 non-null object\n",
      "Communication Proficiency    10000 non-null int64\n",
      "Programming Languages        10000 non-null object\n",
      "Extraversion                 10000 non-null int64\n",
      "Agreeableness                10000 non-null int64\n",
      "Openness                     10000 non-null int64\n",
      "Conscientiousness            10000 non-null int64\n",
      "Neuroticism                  10000 non-null int64\n",
      "Attendance %                 10000 non-null int64\n",
      "Employeed                    10000 non-null int64\n",
      "dtypes: float64(6), int64(9), object(2)\n",
      "memory usage: 1.3+ MB\n"
     ]
    }
   ],
   "source": [
    "dataset.info()"
   ]
  },
  {
   "cell_type": "code",
   "execution_count": 172,
   "metadata": {},
   "outputs": [],
   "source": [
    "dataset['Level of Participation']= dataset['Level of Participation'].replace('State', '1')\n",
    "dataset['Level of Participation']= dataset['Level of Participation'].replace('National', '2')\n",
    "dataset['Level of Participation']= dataset['Level of Participation'].replace('International', '3')\n",
    "dataset['Level of Participation'].fillna(0,inplace=True)\n",
    "\n",
    "dataset['Level of Participation'] = pd.Series(dataset['Level of Participation'], dtype='float64')\n",
    "\n"
   ]
  },
  {
   "cell_type": "code",
   "execution_count": 173,
   "metadata": {
    "scrolled": true
   },
   "outputs": [
    {
     "name": "stdout",
     "output_type": "stream",
     "text": [
      "<class 'pandas.core.frame.DataFrame'>\n",
      "RangeIndex: 10000 entries, 0 to 9999\n",
      "Data columns (total 17 columns):\n",
      "index                        10000 non-null int64\n",
      "Expected Salary              10000 non-null float64\n",
      "CGPA                         10000 non-null float64\n",
      "10th Percentage              10000 non-null float64\n",
      "12th Percentage              10000 non-null float64\n",
      "Branch                       10000 non-null float64\n",
      "Certifications               1970 non-null float64\n",
      "Level of Participation       10000 non-null float64\n",
      "Communication Proficiency    10000 non-null int64\n",
      "Programming Languages        10000 non-null object\n",
      "Extraversion                 10000 non-null int64\n",
      "Agreeableness                10000 non-null int64\n",
      "Openness                     10000 non-null int64\n",
      "Conscientiousness            10000 non-null int64\n",
      "Neuroticism                  10000 non-null int64\n",
      "Attendance %                 10000 non-null int64\n",
      "Employeed                    10000 non-null int64\n",
      "dtypes: float64(7), int64(9), object(1)\n",
      "memory usage: 1.3+ MB\n"
     ]
    }
   ],
   "source": [
    "dataset.info()"
   ]
  },
  {
   "cell_type": "code",
   "execution_count": 174,
   "metadata": {},
   "outputs": [],
   "source": [
    "dataset['Certifications'].fillna(0,inplace=True)"
   ]
  },
  {
   "cell_type": "code",
   "execution_count": 175,
   "metadata": {},
   "outputs": [],
   "source": [
    "dataset['Communication Proficiency']= dataset['Communication Proficiency'].astype(float)"
   ]
  },
  {
   "cell_type": "code",
   "execution_count": 176,
   "metadata": {},
   "outputs": [],
   "source": [
    "dataset['Programming Languages']= dataset['Programming Languages'].replace('C++', '1')\n",
    "dataset['Programming Languages']= dataset['Programming Languages'].replace('Python', '2')\n",
    "dataset['Programming Languages']= dataset['Programming Languages'].replace('Java', '3')\n",
    "dataset['Programming Languages']= dataset['Programming Languages'].replace('C', '4')\n",
    "dataset['Programming Languages']= dataset['Programming Languages'].replace('C#', '5')\n",
    "\n",
    "dataset['Programming Languages'] = pd.Series(dataset['Programming Languages'], dtype='float64')"
   ]
  },
  {
   "cell_type": "code",
   "execution_count": 177,
   "metadata": {},
   "outputs": [],
   "source": [
    "dataset['Extraversion']= dataset['Extraversion'].astype(float)\n",
    "dataset['Agreeableness']= dataset['Agreeableness'].astype(float)\n",
    "dataset['Openness']= dataset['Openness'].astype(float)\n",
    "dataset['Conscientiousness']= dataset['Conscientiousness'].astype(float)\n",
    "dataset['Neuroticism']= dataset['Neuroticism'].astype(float)\n",
    "dataset['Attendance %']= dataset['Attendance %'].astype(float)\n",
    "dataset['Employeed']= dataset['Employeed'].astype(float)\n"
   ]
  },
  {
   "cell_type": "code",
   "execution_count": 185,
   "metadata": {
    "scrolled": true
   },
   "outputs": [
    {
     "name": "stdout",
     "output_type": "stream",
     "text": [
      "<class 'pandas.core.frame.DataFrame'>\n",
      "RangeIndex: 10000 entries, 0 to 9999\n",
      "Data columns (total 17 columns):\n",
      "index                        10000 non-null int64\n",
      "Expected Salary              10000 non-null float64\n",
      "CGPA                         10000 non-null float64\n",
      "10th Percentage              10000 non-null float64\n",
      "12th Percentage              10000 non-null float64\n",
      "Branch                       10000 non-null float64\n",
      "Certifications               10000 non-null float64\n",
      "Level of Participation       10000 non-null float64\n",
      "Communication Proficiency    10000 non-null float64\n",
      "Programming Languages        10000 non-null float64\n",
      "Extraversion                 10000 non-null float64\n",
      "Agreeableness                10000 non-null float64\n",
      "Openness                     10000 non-null float64\n",
      "Conscientiousness            10000 non-null float64\n",
      "Neuroticism                  10000 non-null float64\n",
      "Attendance %                 10000 non-null float64\n",
      "Employeed                    10000 non-null float64\n",
      "dtypes: float64(16), int64(1)\n",
      "memory usage: 1.3 MB\n"
     ]
    }
   ],
   "source": [
    "dataset.info()"
   ]
  },
  {
   "cell_type": "code",
   "execution_count": 188,
   "metadata": {},
   "outputs": [],
   "source": [
    "dataset.to_csv('clean_df.csv')"
   ]
  },
  {
   "cell_type": "markdown",
   "metadata": {},
   "source": [
    "# programming starts"
   ]
  },
  {
   "cell_type": "code",
   "execution_count": 178,
   "metadata": {},
   "outputs": [],
   "source": [
    "# Split-out validation dataset\n",
    "array = dataset.values\n",
    "X = array[:,1:16]\n",
    "Y = array[:,16]\n",
    "validation_size = 0.20\n",
    "seed = 7\n",
    "X_train, X_validation, Y_train, Y_validation = model_selection.train_test_split(X, Y, test_size=validation_size, random_state=seed)"
   ]
  },
  {
   "cell_type": "code",
   "execution_count": 179,
   "metadata": {},
   "outputs": [],
   "source": [
    "# Test options and evaluation metric\n",
    "seed = 7\n",
    "scoring = 'accuracy'"
   ]
  },
  {
   "cell_type": "code",
   "execution_count": 191,
   "metadata": {},
   "outputs": [
    {
     "name": "stdout",
     "output_type": "stream",
     "text": [
      "LR: 0.507500 (0.015762)\n",
      "LDA: 0.508000 (0.015624)\n",
      "KNN: 0.498625 (0.015855)\n",
      "CART: 0.499250 (0.015106)\n",
      "NB: 0.511750 (0.015484)\n",
      "SVM: 0.511250 (0.016508)\n"
     ]
    }
   ],
   "source": [
    "# Spot Check Algorithms\n",
    "models = []\n",
    "models.append(('LR', LogisticRegression()))\n",
    "models.append(('LDA', LinearDiscriminantAnalysis()))\n",
    "models.append(('KNN', KNeighborsClassifier()))\n",
    "models.append(('CART', DecisionTreeClassifier()))\n",
    "models.append(('NB', GaussianNB()))\n",
    "models.append(('SVM', SVC()))\n",
    "# evaluate each model in turn\n",
    "results = []\n",
    "names = []\n",
    "accuracy = []\n",
    "predictions = []\n",
    "for name, model in models:\n",
    "\tkfold = model_selection.KFold(n_splits=10, random_state=seed)\n",
    "\tcv_results = model_selection.cross_val_score(model, X_train, Y_train, cv=kfold, scoring=scoring)\n",
    "\tresults.append(cv_results)\n",
    "\tnames.append(name)\n",
    "\tmsg = \"%s: %f (%f)\" % (name, cv_results.mean(), cv_results.std())\n",
    "\tprint(msg)"
   ]
  },
  {
   "cell_type": "code",
   "execution_count": 181,
   "metadata": {},
   "outputs": [
    {
     "data": {
      "image/png": "[encoded data removed]",
      "text/plain": [
       "<matplotlib.figure.Figure at 0x1e2d86a06d8>"
      ]
     },
     "metadata": {},
     "output_type": "display_data"
    }
   ],
   "source": [
    "# Compare Algorithms\n",
    "fig = plt.figure()\n",
    "fig.suptitle('Algorithm Comparison')\n",
    "ax = fig.add_subplot(111)\n",
    "plt.boxplot(results)\n",
    "ax.set_xticklabels(names)\n",
    "plt.show()"
   ]
  },
  {
   "cell_type": "code",
   "execution_count": 192,
   "metadata": {},
   "outputs": [
    {
     "name": "stdout",
     "output_type": "stream",
     "text": [
      "0.4945\n",
      "[[470 524]\n",
      " [487 519]]\n",
      "             precision    recall  f1-score   support\n",
      "\n",
      "        0.0       0.49      0.47      0.48       994\n",
      "        1.0       0.50      0.52      0.51      1006\n",
      "\n",
      "avg / total       0.49      0.49      0.49      2000\n",
      "\n",
      "0.4945\n"
     ]
    }
   ],
   "source": [
    "# Make predictions on validation dataset of KNN\n",
    "knn = KNeighborsClassifier()\n",
    "knn.fit(X_train, Y_train)\n",
    "predictions = knn.predict(X_validation)\n",
    "print(accuracy_score(Y_validation, predictions))\n",
    "print(confusion_matrix(Y_validation, predictions))\n",
    "print(classification_report(Y_validation, predictions))\n",
    "print(accuracy_score(Y_validation,predictions))"
   ]
  },
  {
   "cell_type": "code",
   "execution_count": 194,
   "metadata": {},
   "outputs": [
    {
     "name": "stdout",
     "output_type": "stream",
     "text": [
      "0.5025\n",
      "[[   0  994]\n",
      " [   1 1005]]\n",
      "             precision    recall  f1-score   support\n",
      "\n",
      "        0.0       0.00      0.00      0.00       994\n",
      "        1.0       0.50      1.00      0.67      1006\n",
      "\n",
      "avg / total       0.25      0.50      0.34      2000\n",
      "\n",
      "0.5025\n"
     ]
    }
   ],
   "source": [
    "# svm predictions\n",
    "from sklearn import svm\n",
    "\n",
    "clf = svm.SVC()\n",
    "clf.fit(X_train, Y_train)\n",
    "\n",
    "predictions = clf.predict(X_validation)\n",
    "print(accuracy_score(Y_validation, predictions))\n",
    "print(confusion_matrix(Y_validation, predictions))\n",
    "print(classification_report(Y_validation, predictions))\n",
    "print(accuracy_score(Y_validation,predictions))"
   ]
  },
  {
   "cell_type": "code",
   "execution_count": 195,
   "metadata": {},
   "outputs": [
    {
     "name": "stdout",
     "output_type": "stream",
     "text": [
      "0.4905\n",
      "[[476 518]\n",
      " [501 505]]\n",
      "             precision    recall  f1-score   support\n",
      "\n",
      "        0.0       0.49      0.48      0.48       994\n",
      "        1.0       0.49      0.50      0.50      1006\n",
      "\n",
      "avg / total       0.49      0.49      0.49      2000\n",
      "\n",
      "0.4905\n"
     ]
    }
   ],
   "source": [
    "# Gaussian NB\n",
    "# naive bayesian\n",
    "from sklearn.naive_bayes import GaussianNB\n",
    "clf = GaussianNB()\n",
    "clf.fit(X_train, Y_train)\n",
    "\n",
    "predictions = clf.predict(X_validation)\n",
    "print(accuracy_score(Y_validation, predictions))\n",
    "print(confusion_matrix(Y_validation, predictions))\n",
    "print(classification_report(Y_validation, predictions))\n",
    "print(accuracy_score(Y_validation,predictions))"
   ]
  },
  {
   "cell_type": "code",
   "execution_count": 196,
   "metadata": {},
   "outputs": [
    {
     "name": "stdout",
     "output_type": "stream",
     "text": [
      "0.4995\n",
      "[[493 501]\n",
      " [500 506]]\n",
      "             precision    recall  f1-score   support\n",
      "\n",
      "        0.0       0.50      0.50      0.50       994\n",
      "        1.0       0.50      0.50      0.50      1006\n",
      "\n",
      "avg / total       0.50      0.50      0.50      2000\n",
      "\n",
      "0.4995\n"
     ]
    }
   ],
   "source": [
    "# decision tree\n",
    "from sklearn import tree\n",
    "\n",
    "clf = tree.DecisionTreeClassifier()\n",
    "clf.fit(X_train, Y_train)\n",
    "\n",
    "predictions = clf.predict(X_validation)\n",
    "print(accuracy_score(Y_validation, predictions))\n",
    "print(confusion_matrix(Y_validation, predictions))\n",
    "print(classification_report(Y_validation, predictions))\n",
    "print(accuracy_score(Y_validation,predictions))"
   ]
  },
  {
   "cell_type": "code",
   "execution_count": 197,
   "metadata": {},
   "outputs": [
    {
     "name": "stdout",
     "output_type": "stream",
     "text": [
      "0.4895\n",
      "[[346 648]\n",
      " [373 633]]\n",
      "             precision    recall  f1-score   support\n",
      "\n",
      "        0.0       0.48      0.35      0.40       994\n",
      "        1.0       0.49      0.63      0.55      1006\n",
      "\n",
      "avg / total       0.49      0.49      0.48      2000\n",
      "\n",
      "0.4895\n"
     ]
    }
   ],
   "source": [
    "# linear discriminant analysis\n",
    "from sklearn.discriminant_analysis import LinearDiscriminantAnalysis\n",
    "\n",
    "clf = LinearDiscriminantAnalysis()\n",
    "clf.fit(X_train, Y_train)\n",
    "\n",
    "predictions = clf.predict(X_validation)\n",
    "print(accuracy_score(Y_validation, predictions))\n",
    "print(confusion_matrix(Y_validation, predictions))\n",
    "print(classification_report(Y_validation, predictions))\n",
    "print(accuracy_score(Y_validation,predictions))"
   ]
  },
  {
   "cell_type": "code",
   "execution_count": 198,
   "metadata": {},
   "outputs": [
    {
     "name": "stdout",
     "output_type": "stream",
     "text": [
      "0.4935\n",
      "[[321 673]\n",
      " [340 666]]\n",
      "             precision    recall  f1-score   support\n",
      "\n",
      "        0.0       0.49      0.32      0.39       994\n",
      "        1.0       0.50      0.66      0.57      1006\n",
      "\n",
      "avg / total       0.49      0.49      0.48      2000\n",
      "\n",
      "0.4935\n"
     ]
    }
   ],
   "source": [
    "# logistic regression\n",
    "from sklearn.linear_model import LogisticRegression\n",
    "clf = LogisticRegression()\n",
    "clf.fit(X_train, Y_train)\n",
    "\n",
    "predictions = clf.predict(X_validation)\n",
    "print(accuracy_score(Y_validation, predictions))\n",
    "print(confusion_matrix(Y_validation, predictions))\n",
    "print(classification_report(Y_validation, predictions))\n",
    "print(accuracy_score(Y_validation,predictions))"
   ]
  },
  {
   "cell_type": "code",
   "execution_count": null,
   "metadata": {},
   "outputs": [],
   "source": []
  }
 ],
 "metadata": {
  "kernelspec": {
   "display_name": "Python 3",
   "language": "python",
   "name": "python3"
  },
  "language_info": {
   "codemirror_mode": {
    "name": "ipython",
    "version": 3
   },
   "file_extension": ".py",
   "mimetype": "text/x-python",
   "name": "python",
   "nbconvert_exporter": "python",
   "pygments_lexer": "ipython3",
   "version": "3.5.3rc1"
  }
 },
 "nbformat": 4,
 "nbformat_minor": 2
}
